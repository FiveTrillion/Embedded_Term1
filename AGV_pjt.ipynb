{
 "cells": [
  {
   "cell_type": "markdown",
   "metadata": {},
   "source": [
    "# 5장. GUI 원격 제어기로 인공지능 무인운반차량(AGV) 제어하기\n",
    "\n",
    "유저는 GUI 원격 제어기의 버튼 제어부를 터치하여 명령을 publish 합니다.  \n",
    "publish 된 명령어들은 인공지능 무인운반차량(AGV) 에서 subscribe 하여 동작합니다.\n",
    "\n",
    "인공지능 무인운반차량(AGV)는 1초에 한번 씩, 랜덤 값을 생성하여 publish 합니다.  \n",
    "publish 된 데이터들은 GUI 원격 제어기에서 subscribe 하여 sensingTable에 표시합니다."
   ]
  },
  {
   "cell_type": "markdown",
   "metadata": {},
   "source": [
    "## 라이브러리 가져오기"
   ]
  },
  {
   "cell_type": "code",
   "execution_count": 1,
   "metadata": {},
   "outputs": [
    {
     "name": "stdout",
     "output_type": "stream",
     "text": [
      "Succeeded to open the port\n",
      "Succeeded to change the baudrate\n",
      "namseok\n"
     ]
    }
   ],
   "source": [
    "from IPython.display import display\n",
    "import ipywidgets\n",
    "import ipywidgets.widgets as widgets\n",
    "import traitlets\n",
    "from jetbot import Robot, Camera, bgr8_to_jpeg, ObjectDetector\n",
    "from SCSCtrl import TTLServo\n",
    "\n",
    "import threading\n",
    "\n",
    "import paho.mqtt.client as mqtt\n",
    "from datetime import datetime\n",
    "import pytz\n",
    "import time\n",
    "import json\n",
    "import random as rd\n",
    "import cv2\n",
    "import base64\n",
    "import torch\n",
    "import torchvision\n",
    "import torch.nn.functional as F\n",
    "import numpy as np\n",
    "print(\"namseok\")"
   ]
  },
  {
   "cell_type": "markdown",
   "metadata": {},
   "source": [
    "## 카메라, 로봇 객체 초기화 하기"
   ]
  },
  {
   "cell_type": "code",
   "execution_count": 2,
   "metadata": {},
   "outputs": [
    {
     "name": "stdout",
     "output_type": "stream",
     "text": [
      "namseok\n"
     ]
    }
   ],
   "source": [
    "robot = Robot()\n",
    "camera = Camera.instance(width=300, height=300)\n",
    "model = ObjectDetector('ssd_mobilenet_v2_coco.engine')\n",
    "image = widgets.Image(format='jpeg', width=300, height=300)\n",
    "camera_link = traitlets.dlink((camera, 'value'), (image, 'value'), transform=bgr8_to_jpeg)\n",
    "detections = model(camera.value)\n",
    "TTLServo.xyInput(150, 100)\n",
    "TTLServo.servoAngleCtrl(4, -10, 1, 150)\n",
    "print(\"namseok\")"
   ]
  },
  {
   "cell_type": "code",
   "execution_count": 3,
   "metadata": {},
   "outputs": [
    {
     "data": {
      "application/vnd.jupyter.widget-view+json": {
       "model_id": "90790116b02244c696bbfcb44e6da9a9",
       "version_major": 2,
       "version_minor": 0
      },
      "text/plain": [
       "VBox(children=(HBox(children=(Image(value=b'', format='jpeg', height='300', width='300'), FloatSlider(value=0.…"
      ]
     },
     "metadata": {},
     "output_type": "display_data"
    }
   ],
   "source": [
    "# control 위젯 코드\n",
    "blocked_widget = widgets.FloatSlider(min=0.0, max=1.0, value=0.0, description='blocked')\n",
    "image_widget = widgets.Image(format='jpeg', width=300, height=300)\n",
    "label_widget = widgets.IntText(value=1, description='tracked label')\n",
    "speed_widget = widgets.FloatSlider(value=0.4, min=0.0, max=1.0, description='speed')\n",
    "turn_gain_widget = widgets.FloatSlider(value=0.8, min=0.0, max=2.0, description='turn gain')\n",
    "\n",
    "# widget 출력 코드\n",
    "display(widgets.VBox([\n",
    "    widgets.HBox([image_widget, blocked_widget]),\n",
    "    label_widget,\n",
    "    speed_widget,\n",
    "    turn_gain_widget\n",
    "]))\n",
    "\n",
    "width = int(image_widget.width)\n",
    "height = int(image_widget.height)\n",
    "\n",
    "# 탐지된 객체 중심 구하는 함수\n",
    "def detection_center(detection):\n",
    "    bbox = detection['bbox']\n",
    "    #if(detection['label'] != 1): \n",
    "        #print(detection['label'])\n",
    "    center_x = (bbox[0] + bbox[2]) / 2.0 - 0.5\n",
    "    center_y = (bbox[1] + bbox[3]) / 2.0 - 0.5\n",
    "    return (center_x, center_y)\n",
    "\n",
    "# 중심점을 이용해 벡터의 Euclidean Norm 구하는 함수\n",
    "def norm(vec):\n",
    "    return np.sqrt(vec[0]**2 + vec[1]**2)\n",
    "\n",
    "# 가장 가까운 객체 찾는 함수\n",
    "def closest_detection(detections):\n",
    "    closest_detection = None\n",
    "    for det in detections:\n",
    "        center = detection_center(det)\n",
    "        if closest_detection is None:\n",
    "            closest_detection = det\n",
    "        elif norm(detection_center(det)) < norm(detection_center(closest_detection)):\n",
    "            closest_detection = det\n",
    "    return closest_detection\n",
    "\n",
    "def execute(change):\n",
    "    image = change['new']\n",
    "        \n",
    "    # 객체 탐지\n",
    "    detections = model(image)\n",
    "    \n",
    "    # 탐지된 객체 중 내가 특정한 객체인지 체크\n",
    "    matching_detections = [d for d in detections[0] if d['label'] == 44]\n",
    "    \n",
    "    # 내가 특정한 객체 중 가장 가까운 객체에 box 그리는 코드\n",
    "    det = closest_detection(matching_detections)\n",
    "    if det is not None:\n",
    "        bbox = det['bbox']\n",
    "        cv2.rectangle(image, (int(width * bbox[0]), int(height * bbox[1])), (int(width * bbox[2]), int(height * bbox[3])), (0, 255, 0), 5)\n",
    "    \n",
    "    # 탐지된 객체 없으면 직진\n",
    "    if det is None:\n",
    "        robot.forward(float(speed_widget.value))\n",
    "        \n",
    "    # 있다면, 객체 쪽으로 회전\n",
    "    else:\n",
    "        # 카메라의 중심에서부터 내가 특정한 객체와의 거리에 따라 AGV 회전\n",
    "        center = detection_center(det)\n",
    "        robot.set_motors(\n",
    "            float(speed_widget.value + turn_gain_widget.value * center[0]),\n",
    "            float(speed_widget.value - turn_gain_widget.value * center[0])\n",
    "        )\n",
    "    \n",
    "    # 이미지 출력\n",
    "    image_widget.value = bgr8_to_jpeg(image)\n"
   ]
  },
  {
   "cell_type": "markdown",
   "metadata": {},
   "source": [
    "## widget 생성하기\n",
    "\n",
    "widget 은 간단하게 디자인하였습니다.\n",
    "\n",
    "Start 버튼을 눌러서, AGV에서 GUI Controller 로 랜덤으로 생성한 데이터를 publish 합니다.  \n",
    "manual 버튼을 누르면, GUI Controller 에서 버튼을 눌러서 AGV를 제어할 수 있습니다."
   ]
  },
  {
   "cell_type": "code",
   "execution_count": 4,
   "metadata": {},
   "outputs": [
    {
     "data": {
      "application/vnd.jupyter.widget-view+json": {
       "model_id": "87fa9545e18847f9997868eed57546e1",
       "version_major": 2,
       "version_minor": 0
      },
      "text/plain": [
       "Label(value='MQTT Test')"
      ]
     },
     "metadata": {},
     "output_type": "display_data"
    },
    {
     "data": {
      "application/vnd.jupyter.widget-view+json": {
       "model_id": "7574ebb367034e20891d3eab65fb35e8",
       "version_major": 2,
       "version_minor": 0
      },
      "text/plain": [
       "HBox(children=(VBox(children=(Button(button_style='info', description='Start', style=ButtonStyle()), Label(val…"
      ]
     },
     "metadata": {},
     "output_type": "display_data"
    }
   ],
   "source": [
    "lbl1 = ipywidgets.Label(value=\"MQTT Test\")\n",
    "\n",
    "startBtn = widgets.Button(description='Start', button_style='info')\n",
    "\n",
    "lbl2 = ipywidgets.Label(value=\"sensingData\")\n",
    "lbl3 = ipywidgets.Label(value=\"num1 : \")\n",
    "num1lbl = ipywidgets.Label(value=\"0\")\n",
    "hbox1 = widgets.HBox([lbl3, num1lbl] )\n",
    "\n",
    "lbl4 = ipywidgets.Label(value=\"num2 : \")\n",
    "num2lbl = ipywidgets.Label(value=\"0\")\n",
    "hbox2 = widgets.HBox([lbl4, num2lbl] )\n",
    "vbox1 = widgets.VBox([startBtn, lbl2, hbox1, hbox2])\n",
    "\n",
    "manualBtn = widgets.Button(description='Manual', button_style='success', disabled = True)\n",
    "lbl5 = ipywidgets.Label(value=\"commandData\")\n",
    "lbl6 = ipywidgets.Label(value=\"command : \")\n",
    "commandlbl = ipywidgets.Label(value=\"None\")\n",
    "hbox3 = widgets.HBox([lbl6, commandlbl] )\n",
    "vbox2 = widgets.VBox([manualBtn, lbl5, hbox3])\n",
    "\n",
    "hbox4 = widgets.HBox([vbox1, vbox2] )\n",
    "\n",
    "display(lbl1, hbox4)\n",
    "\n",
    "servoPos_4 = 0\n",
    "\n",
    "moveStartTor = 0.15\n",
    "fb_input = 0           # 전방 및 후방 방향의 속도 매개변수를 저장합니다.\n",
    "lr_input = 0           # 조향에 대한 매개변수를 저장합니다.\n",
    "\n",
    "# AGV의 이동이 멈춥니다.\n",
    "def moveStop():\n",
    "    global fb_input, lr_input\n",
    "    fb_input = 0\n",
    "    lr_input = 0\n",
    "    robot.set_motors(0,0)\n",
    "    camera.unobserve_all()\n",
    "    time.sleep(1.0)\n",
    "    robot.stop()\n",
    "\n",
    "# AGV의 이동을 제어합니다.\n",
    "def moveSmoothCtrl(commandType, valueInput):\n",
    "    global fb_input, lr_input\n",
    "    if commandType == 'y':\n",
    "        fb_input = valueInput\n",
    "    elif commandType == 'x':\n",
    "        lr_input = valueInput\n",
    "    else:\n",
    "        return\n",
    "\n",
    "    if abs(fb_input) < moveStartTor and abs(lr_input) < moveStartTor:\n",
    "        moveStop()\n",
    "        return\n",
    "    leftSpeed  = -fb_input + lr_input\n",
    "    rightSpeed = -fb_input - lr_input\n",
    "    robot.left_motor.value  = leftSpeed\n",
    "    robot.right_motor.value = rightSpeed"
   ]
  },
  {
   "cell_type": "markdown",
   "metadata": {},
   "source": [
    "## MQTT Protocol을 위한 변수 설정하기"
   ]
  },
  {
   "cell_type": "code",
   "execution_count": 5,
   "metadata": {},
   "outputs": [
    {
     "name": "stdout",
     "output_type": "stream",
     "text": [
      "namseok\n"
     ]
    }
   ],
   "source": [
    "# 한국 시간대 (Asia/Seoul)로 설정\n",
    "korea_timezone = pytz.timezone(\"Asia/Seoul\")\n",
    "\n",
    "#Broker IP Address 와 Port\n",
    "address = \"70.12.107.69\"\n",
    "#address = \"218.39.192.165\"\n",
    "port = 1883\n",
    "\n",
    "commandTopic = \"AGV/command\"\n",
    "videoTopic = \"AGV/video\"\n",
    "video_streamer = None\n",
    "print(\"namseok\")"
   ]
  },
  {
   "cell_type": "markdown",
   "metadata": {},
   "source": [
    "## 인공지능 무인운반차량(AGV) 제어용 함수 정의하기\n",
    "\n",
    "제어용 함수에 매개변수를 추가하여, arg_string 값으로 세부 동작을 제어할 수 있습니다."
   ]
  },
  {
   "cell_type": "code",
   "execution_count": 6,
   "metadata": {},
   "outputs": [
    {
     "name": "stdout",
     "output_type": "stream",
     "text": [
      "namseok\n"
     ]
    }
   ],
   "source": [
    "def agv_stop():\n",
    "    robot.stop()\n",
    "    \n",
    "def agv_forward():\n",
    "    robot.forward(0.4)\n",
    "\n",
    "def agv_backward():\n",
    "    robot.backward(0.4)\n",
    "\n",
    "def agv_left():\n",
    "    robot.left(0.3)\n",
    "\n",
    "def agv_right():\n",
    "    robot.right(0.3)\n",
    "print(\"namseok\")"
   ]
  },
  {
   "cell_type": "markdown",
   "metadata": {},
   "source": [
    "## MQTT protocol을 위한 콜백함수 정의하기\n",
    "\n",
    "MQTT protocol을 위한 콜백함수를 사용자가 새롭게 정의할 수 있습니다.  \n",
    "MQTT protocol의 .loop_start() / .loop_stop() 을 이용하면, 내부적으로 thread 로 동작하여 비동기적으로 제어가 가능합니다."
   ]
  },
  {
   "cell_type": "code",
   "execution_count": 7,
   "metadata": {},
   "outputs": [
    {
     "name": "stdout",
     "output_type": "stream",
     "text": [
      "namseok\n"
     ]
    }
   ],
   "source": [
    "def on_connect(client, userdata, flags, rc):\n",
    "    if rc == 0:\n",
    "        print(\"connected OK\")\n",
    "    else:\n",
    "        print(\"Bad connection Returned code=\", rc)\n",
    "\n",
    "def on_publish(client, userdata, result):\n",
    "    a = 1\n",
    "    #print(\"data published\")\n",
    "\n",
    "def on_message(client, userdata, msg):\n",
    "    global message\n",
    "    message = json.loads(msg.payload.decode(\"utf-8\"))\n",
    "    if \"axis\" in message:\n",
    "        axis = message[\"axis\"]\n",
    "        value = message[\"value\"]\n",
    "        moveSmoothCtrl(axis, value)\n",
    "    elif \"cmd_string\" in message:\n",
    "        if message[\"cmd_string\"] == \"back\": moveStop()\n",
    "        elif message[\"cmd_string\"] == \"left\": agv_left()\n",
    "        elif message[\"cmd_string\"] == \"right\": agv_right()\n",
    "        elif message[\"cmd_string\"] == \"go\": #agv_forward()\n",
    "            execute({'new': camera.value})\n",
    "            camera.unobserve_all()\n",
    "            camera.observe(execute, names='value')\n",
    "print(\"namseok\")"
   ]
  },
  {
   "cell_type": "markdown",
   "metadata": {},
   "source": [
    "## sensorReadPublish() 클래스 생성하기\n",
    "\n",
    "Start 버튼을 누르면, sensorReadPublish() 로 객체를 생성하여 비동기적으로 동작합니다.  \n",
    "random 라이브러리를 이용하여, 변수 값을 만들고, 현재 시간 데이터와 함께 GUI Remote Controller 로 publish 합니다."
   ]
  },
  {
   "cell_type": "code",
   "execution_count": null,
   "metadata": {},
   "outputs": [],
   "source": []
  },
  {
   "cell_type": "code",
   "execution_count": 8,
   "metadata": {},
   "outputs": [
    {
     "name": "stdout",
     "output_type": "stream",
     "text": [
      "namseok\n"
     ]
    }
   ],
   "source": [
    "class VideoCapturePublish(threading.Thread):\n",
    "    def __init__(self):\n",
    "        super().__init__()\n",
    "        self.fps = 60\n",
    "        self.cap = None\n",
    "        self.th_flag = True\n",
    "\n",
    "    def run(self):\n",
    "        while self.th_flag:\n",
    "            frame = camera.value\n",
    "            \n",
    "            #frame = cv2.cvtColor(frame, cv2.COLOR_RGB2BGR)\n",
    "            \n",
    "            frame = cv2.resize(frame, (150, 150))\n",
    "                \n",
    "            # 프레임을 JPEG로 압축\n",
    "            _, buffer = cv2.imencode('.jpg', frame)\n",
    "\n",
    "            # Base64로 인코딩\n",
    "            jpg_as_text = base64.b64encode(buffer).decode('utf-8')\n",
    "\n",
    "            # MQTT로 데이터 전송\n",
    "            client.publish(videoTopic, jpg_as_text)\n",
    "\n",
    "            # FPS에 맞게 대기\n",
    "            time.sleep(1 / self.fps)\n",
    "\n",
    "    def stop(self):\n",
    "        self.th_flag = False\n",
    "        print(\"Stopping video capture...\")\n",
    "print(\"namseok\")"
   ]
  },
  {
   "cell_type": "code",
   "execution_count": 9,
   "metadata": {},
   "outputs": [],
   "source": [
    "# 그리퍼 집기 함수\n",
    "def grab():\n",
    "    TTLServo.servoAngleCtrl(4, -10, 1, 150)\n",
    "    TTLServo.xyInput(85, 150)\n",
    "    time.sleep(1)\n",
    "    TTLServo.servoAngleCtrl(4, -70, 1, 150)\n",
    "    time.sleep(2)\n",
    "    TTLServo.xyInput(150, 100) #초기상태\n",
    "    \n",
    "# 그리퍼 풀기 함수\n",
    "def loose():\n",
    "    TTLServo.servoAngleCtrl(4, -10, 1, 150)"
   ]
  },
  {
   "cell_type": "markdown",
   "metadata": {},
   "source": [
    "## Start 버튼용 함수 정의하고 바인딩하기\n",
    "\n",
    "Start 버튼을 클릭하면, MQTT Client() 객체를 생성하고, Broker 에 연결을 시도합니다. \n",
    "sensorReadPublish() 객체를 생성하고, GUI Controller 로 data를 publish 합니다.  \n",
    "Manual 버튼을 활성화하고, Start 버튼의 text 를 Stop으로 변경합니다.  \n",
    "\n",
    "Stop 버튼을 클릭하면, data Publish 를 중단합니다."
   ]
  },
  {
   "cell_type": "code",
   "execution_count": 10,
   "metadata": {},
   "outputs": [
    {
     "name": "stdout",
     "output_type": "stream",
     "text": [
      "namseok\n"
     ]
    }
   ],
   "source": [
    "client = None\n",
    "def startPub(change):\n",
    "    global video_streamer, startBtn, client\n",
    "    \n",
    "    if startBtn.description == \"Start\" :\n",
    "        client = mqtt.Client()\n",
    "        client.connect(address, port)\n",
    "        \n",
    "        client.on_connect = on_connect\n",
    "        client.on_publish = on_publish\n",
    "        client.loop_start()\n",
    "        \n",
    "        video_streamer = VideoCapturePublish()\n",
    "        video_streamer.start()\n",
    "        \n",
    "        startBtn.description = \"Stop\"\n",
    "        startBtn.button_style = 'danger'\n",
    "        manualBtn.disabled = False\n",
    "        \n",
    "    elif startBtn.description == \"Stop\" :\n",
    "        video_streamer.stop()\n",
    "        \n",
    "        startBtn.description = \"Start\"\n",
    "        startBtn.button_style = 'info'\n",
    "        #print(\"Stop\", client.is_connected())\n",
    "\n",
    "startBtn.on_click(startPub)\n",
    "print(\"namseok\")"
   ]
  },
  {
   "cell_type": "markdown",
   "metadata": {},
   "source": [
    "## Manual 버튼용 함수 정의하고 바인딩하기\n",
    "Manual 버튼을 클릭하면, GUI Controller 에서 보낸 데이터를 Subscribe 하게 됩니다.  \n",
    "on_message 콜백 함수에서 정의한 것과 같이, GUI Controller 에서 버튼을 누르면 해당 명령어대로 AGV를 조종할 수 있습니다."
   ]
  },
  {
   "cell_type": "code",
   "execution_count": 11,
   "metadata": {},
   "outputs": [
    {
     "name": "stdout",
     "output_type": "stream",
     "text": [
      "namseok\n"
     ]
    }
   ],
   "source": [
    "def startSub(change):\n",
    "    global manualBtn, client\n",
    "    \n",
    "    if manualBtn.description == \"Manual\" :\n",
    "        \n",
    "        client.subscribe(commandTopic, 1)\n",
    "        client.on_message = on_message\n",
    "        \n",
    "        manualBtn.description = \"Auto\"\n",
    "        manualBtn.button_style = 'success'\n",
    "        \n",
    "\n",
    "    elif manualBtn.description == \"Auto\" :\n",
    "        manualBtn.description = \"Manual\"\n",
    "        manualBtn.button_style = 'warning'\n",
    "        #print(\"Stop\", client.is_connected())\n",
    "        manualBtn.disabled = True\n",
    "\n",
    "manualBtn.on_click(startSub)\n",
    "print(\"namseok\")"
   ]
  },
  {
   "cell_type": "markdown",
   "metadata": {},
   "source": [
    "## 프로젝트 종료하기"
   ]
  },
  {
   "cell_type": "code",
   "execution_count": 1,
   "metadata": {},
   "outputs": [
    {
     "ename": "NameError",
     "evalue": "name 'time' is not defined",
     "output_type": "error",
     "traceback": [
      "\u001b[0;31m---------------------------------------------------------------------------\u001b[0m",
      "\u001b[0;31mNameError\u001b[0m                                 Traceback (most recent call last)",
      "\u001b[0;32m<ipython-input-1-b763beb4bd99>\u001b[0m in \u001b[0;36m<module>\u001b[0;34m\u001b[0m\n\u001b[0;32m----> 1\u001b[0;31m \u001b[0mtime\u001b[0m\u001b[0;34m.\u001b[0m\u001b[0msleep\u001b[0m\u001b[0;34m(\u001b[0m\u001b[0;36m0.1\u001b[0m\u001b[0;34m)\u001b[0m\u001b[0;34m\u001b[0m\u001b[0;34m\u001b[0m\u001b[0m\n\u001b[0m\u001b[1;32m      2\u001b[0m \u001b[0mrobot\u001b[0m\u001b[0;34m.\u001b[0m\u001b[0mstop\u001b[0m\u001b[0;34m(\u001b[0m\u001b[0;34m)\u001b[0m\u001b[0;34m\u001b[0m\u001b[0;34m\u001b[0m\u001b[0m\n\u001b[1;32m      3\u001b[0m \u001b[0mcamera\u001b[0m\u001b[0;34m.\u001b[0m\u001b[0munobserve_all\u001b[0m\u001b[0;34m(\u001b[0m\u001b[0;34m)\u001b[0m\u001b[0;34m\u001b[0m\u001b[0;34m\u001b[0m\u001b[0m\n\u001b[1;32m      4\u001b[0m \u001b[0mcamera\u001b[0m\u001b[0;34m.\u001b[0m\u001b[0mstop\u001b[0m\u001b[0;34m(\u001b[0m\u001b[0;34m)\u001b[0m\u001b[0;34m\u001b[0m\u001b[0;34m\u001b[0m\u001b[0m\n\u001b[1;32m      5\u001b[0m \u001b[0mvideo_streamer\u001b[0m\u001b[0;34m.\u001b[0m\u001b[0mstop\u001b[0m\u001b[0;34m(\u001b[0m\u001b[0;34m)\u001b[0m\u001b[0;34m\u001b[0m\u001b[0;34m\u001b[0m\u001b[0m\n",
      "\u001b[0;31mNameError\u001b[0m: name 'time' is not defined"
     ]
    }
   ],
   "source": [
    "time.sleep(0.1)\n",
    "robot.stop()\n",
    "camera.unobserve_all()\n",
    "camera.stop()\n",
    "video_streamer.stop()\n",
    "\n",
    "print('End')"
   ]
  },
  {
   "cell_type": "code",
   "execution_count": null,
   "metadata": {},
   "outputs": [],
   "source": []
  }
 ],
 "metadata": {
  "kernelspec": {
   "display_name": "Python 3",
   "language": "python",
   "name": "python3"
  },
  "language_info": {
   "codemirror_mode": {
    "name": "ipython",
    "version": 3
   },
   "file_extension": ".py",
   "mimetype": "text/x-python",
   "name": "python",
   "nbconvert_exporter": "python",
   "pygments_lexer": "ipython3",
   "version": "3.6.9"
  }
 },
 "nbformat": 4,
 "nbformat_minor": 4
}
